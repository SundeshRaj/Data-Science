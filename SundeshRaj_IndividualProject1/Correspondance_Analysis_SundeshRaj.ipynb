{
 "cells": [
  {
   "cell_type": "markdown",
   "metadata": {},
   "source": [
    "        Data Science: A Programming Approach\n",
    "        Individual Project 1\n",
    "        \n",
    "        Sundesh Raj\n",
    "        1001633297\n",
    "        University of Texas Arlington"
   ]
  },
  {
   "cell_type": "markdown",
   "metadata": {},
   "source": [
    "<h1 align='center' style=\"color: blue;\">Correspondence Analysis</h1>"
   ]
  },
  {
   "cell_type": "markdown",
   "metadata": {},
   "source": [
    "<p>Correspondence analysis (CA) or reciprocal averaging is a multivariate statistical technique proposed by Herman Otto Hartley and later developed by Jean-Paul Benzécri. It is conceptually similar to principal component analysis, but applies to categorical rather than continuous data. In a similar manner to principal component analysis, it provides a means of displaying or summarising a set of data in two-dimensional graphical form.\n",
    "\n",
    "All data should be on the same scale for CA to be applicable, keeping in mind that the method treats rows and columns equivalently. It is traditionally applied to contingency tables — CA decomposes the chi-squared statistic associated with this table into orthogonal factors. Because CA is a descriptive technique, it can be applied to tables whether or not the $\\chi^2$ statistic is appropriate</p>"
   ]
  },
  {
   "cell_type": "markdown",
   "metadata": {},
   "source": [
    "<p><b>References and citations</b><p>\n",
    "<ul>\n",
    "    <li><a href='https://codefying.com/2018/12/21/introduction-to-correspondence-analysis/'>Introduction to Correspondence Analysis</a></li>\n",
    "    <li><a href='http://vxy10.github.io/2016/06/10/intro-MCA/'>Introduction to Multiple Correspondence Analysis</a></li>\n",
    "    <li><a href='https://docs.biolab.si/2/reference/rst/Orange.projection.correspondence.html'>Correspondence Analysis</a></li>\n",
    "    <li><a href='https://docs.scipy.org/doc/scipy/reference/generated/scipy.stats.chi2_contingency.html'>Chi-Squared Contingency</a></li>\n",
    "</ul>"
   ]
  },
  {
   "cell_type": "markdown",
   "metadata": {},
   "source": [
    "<p><b>PREPROCESSING</b></p>"
   ]
  },
  {
   "cell_type": "markdown",
   "metadata": {},
   "source": [
    "<p>Like PCA (Principle Component Analysis), corresopondance analysis creates orthogonal components and for each item in a table, a set of scores (sometimes called factor scores, see Factor analysis). Correspondence analysis is performed on a contingency table, C, of size m×n where m is the number of rows and n is the number of columns.<p>"
   ]
  },
  {
   "cell_type": "markdown",
   "metadata": {},
   "source": [
    "<p>Here <b>m</b> is the number of rows and <b>n</b> is the number of columns<p>"
   ]
  },
  {
   "cell_type": "markdown",
   "metadata": {},
   "source": [
    "<p>If we consider a contingency table C with m rows and n columns <p>\n",
    "<p>The row weights are given by ${\\displaystyle w_{m}={\\frac {1}{n_{C}}}C\\mathbf {1} }$</p>\n",
    "<p>The column weights are given by ${\\displaystyle w_{n}={\\frac {1}{n_{C}}}\\mathbf {1} ^{T}C.}$</p>\n",
    "<p>Here ${\\displaystyle n_{C}=\\sum _{i=1}^{n}\\sum _{j=1}^{m}C_{ij}}$ is the sum of C and {\\displaystyle \\mathbf {1} }\\mathbf {1}  is a column vector of ones with the appropriate dimension.</p>\n",
    "<p>Next, compute a table S, where C is divided by the sum of C\n",
    "\n",
    "${\\displaystyle S={\\frac {1}{n_{C}}}C.}$</p>\n",
    "\n",
    "<p>Finally, compute a table M from S and the weights as such\n",
    "\n",
    "${\\displaystyle M=S-w_{m}w_{n}.}$<p>"
   ]
  },
  {
   "cell_type": "code",
   "execution_count": 136,
   "metadata": {},
   "outputs": [],
   "source": [
    "import pandas as pd\n",
    "import numpy as np\n",
    "import itertools\n",
    "\n",
    "from scipy.stats import chi2_contingency\n",
    "\n",
    "import seaborn as sns; \n",
    "sns.set()\n",
    "import matplotlib.pyplot as plt\n",
    "%matplotlib inline "
   ]
  },
  {
   "cell_type": "markdown",
   "metadata": {},
   "source": [
    "<p>CA is a visualisation technique that can be applied to categorical data for data exploration. Unlike numerical data, categorical features are harder to analyse and visualise. CA uses a matrix decomposition method, namely SVD, and thus you may see CA being likened to the Principle Components Analysis (PCA). However, CA is not, strictly speaking, a PCA for categorical data, mostly because the primary objective of CA is to provide a visualisation of associations among categorical features.</p>"
   ]
  },
  {
   "cell_type": "markdown",
   "metadata": {},
   "source": [
    "<p>How does one visualise categorical data? CA is based on a simple concept of a contingency table. A contingency table is a tabulation of frequencies of how categorical values are distributed by variables. This blog will be using examples from P. Yelland’s article on CA published in the Mathematica journal[1]. I will translate his Mathematica code to Python (because Python is awesome). In [1] we find CA applied to textual analysis where passages of a few authors analysed by the frequency of letters. The five authors and the letters are shown below:</p>"
   ]
  },
  {
   "cell_type": "code",
   "execution_count": 137,
   "metadata": {},
   "outputs": [],
   "source": [
    "authors = [\"Charles Darwin\", \"Rene Descartes\",\"Thomas Hobbes\", \"Mary Shelley\", \"Mark Twain\"]\n",
    "initials=['CD1','CD2','CD3','RD1','RD2','RD3','TB1','TB2','TB3','MS1','MS2','MS3','MT1','MT2','MT3']"
   ]
  },
  {
   "cell_type": "code",
   "execution_count": 138,
   "metadata": {},
   "outputs": [
    {
     "data": {
      "text/plain": [
       "['Charles Darwin: 1',\n",
       " 'Charles Darwin: 2',\n",
       " 'Charles Darwin: 3',\n",
       " 'Rene Descartes: 1',\n",
       " 'Rene Descartes: 2',\n",
       " 'Rene Descartes: 3',\n",
       " 'Thomas Hobbes: 1',\n",
       " 'Thomas Hobbes: 2',\n",
       " 'Thomas Hobbes: 3',\n",
       " 'Mary Shelley: 1',\n",
       " 'Mary Shelley: 2',\n",
       " 'Mary Shelley: 3',\n",
       " 'Mark Twain: 1',\n",
       " 'Mark Twain: 2',\n",
       " 'Mark Twain: 3']"
      ]
     },
     "execution_count": 138,
     "metadata": {},
     "output_type": "execute_result"
    }
   ],
   "source": [
    "authorSamples = list(itertools.chain.from_iterable([[a+\": \"+str(i) for i in [1,2,3]] for a in authors]))\n",
    "authorSamples"
   ]
  },
  {
   "cell_type": "code",
   "execution_count": 139,
   "metadata": {},
   "outputs": [],
   "source": [
    "chars=[\"B\", \"C\", \"D\", \"F\", \"G\", \"H\", \"I\", \"L\", \"M\", \"N\",\"P\", \"R\", \"S\", \"U\", \"W\", \"Y\"]"
   ]
  },
  {
   "cell_type": "markdown",
   "metadata": {},
   "source": [
    "<p>The contingency table build from how often these letters appear in three passages per author are:</p>"
   ]
  },
  {
   "cell_type": "code",
   "execution_count": 140,
   "metadata": {},
   "outputs": [],
   "source": [
    "contingencyTable=[[34, 37, 44, 27, 19, 39, 74, 44, 27, 61, 12, 65, 69,22, 14, 21],\n",
    "                [18, 33, 47, 24, 14, 38, 66, 41, 36,72, 15, 62, 63, 31, 12, 18],\n",
    "                [32, 43, 36, 12, 21, 51, 75, 33, 23, 60, 24, 68, 85,18, 13, 14],\n",
    "                [13, 31, 55, 29, 15, 62, 74, 43, 28,73, 8, 59, 54, 32, 19, 20],\n",
    "                [8, 28, 34, 24, 17, 68, 75, 34, 25, 70, 16, 56, 72,31, 14, 11], \n",
    "                [9, 34, 43, 25, 18, 68, 84, 25, 32, 76,14, 69, 64, 27, 11, 18],\n",
    "                [15, 20, 28, 18, 19, 65, 82, 34, 29, 89, 11, 47, 74,18, 22, 17], \n",
    "                [18, 14, 40, 25, 21, 60, 70, 15, 37,80, 15, 65, 68, 21, 25, 9],\n",
    "                [19, 18, 41, 26, 19, 58, 64, 18, 38, 78, 15, 65, 72,20, 20, 11], \n",
    "                [13, 29, 49, 31, 16, 61, 73, 36, 29,69, 13, 63, 58, 18, 20, 25],\n",
    "                [17, 34, 43, 29, 14, 62, 64, 26, 26, 71, 26, 78, 64, 21, 18, 12],\n",
    "                [13, 22, 43, 16, 11, 70, 68, 46, 35,57, 30, 71, 57, 19, 22, 20],\n",
    "                [16, 18, 56, 13, 27, 67, 61, 43, 20, 63, 14, 43, 67,34, 41, 23], \n",
    "                [15, 21, 66, 21, 19, 50, 62, 50, 24, 68, 14, 40, 58, 31, 36, 26],\n",
    "                [19, 17, 70, 12, 28, 53, 72, 39, 22, 71, 11, 40, 67,25, 41, 17]]"
   ]
  },
  {
   "cell_type": "code",
   "execution_count": 141,
   "metadata": {},
   "outputs": [
    {
     "data": {
      "text/html": [
       "<div>\n",
       "<style scoped>\n",
       "    .dataframe tbody tr th:only-of-type {\n",
       "        vertical-align: middle;\n",
       "    }\n",
       "\n",
       "    .dataframe tbody tr th {\n",
       "        vertical-align: top;\n",
       "    }\n",
       "\n",
       "    .dataframe thead th {\n",
       "        text-align: right;\n",
       "    }\n",
       "</style>\n",
       "<table border=\"1\" class=\"dataframe\">\n",
       "  <thead>\n",
       "    <tr style=\"text-align: right;\">\n",
       "      <th></th>\n",
       "      <th>Charles Darwin: 1</th>\n",
       "      <th>Charles Darwin: 2</th>\n",
       "      <th>Charles Darwin: 3</th>\n",
       "      <th>Rene Descartes: 1</th>\n",
       "      <th>Rene Descartes: 2</th>\n",
       "      <th>Rene Descartes: 3</th>\n",
       "      <th>Thomas Hobbes: 1</th>\n",
       "      <th>Thomas Hobbes: 2</th>\n",
       "      <th>Thomas Hobbes: 3</th>\n",
       "      <th>Mary Shelley: 1</th>\n",
       "      <th>Mary Shelley: 2</th>\n",
       "      <th>Mary Shelley: 3</th>\n",
       "      <th>Mark Twain: 1</th>\n",
       "      <th>Mark Twain: 2</th>\n",
       "      <th>Mark Twain: 3</th>\n",
       "    </tr>\n",
       "  </thead>\n",
       "  <tbody>\n",
       "    <tr>\n",
       "      <td>0</td>\n",
       "      <td>34</td>\n",
       "      <td>18</td>\n",
       "      <td>32</td>\n",
       "      <td>13</td>\n",
       "      <td>8</td>\n",
       "      <td>9</td>\n",
       "      <td>15</td>\n",
       "      <td>18</td>\n",
       "      <td>19</td>\n",
       "      <td>13</td>\n",
       "      <td>17</td>\n",
       "      <td>13</td>\n",
       "      <td>16</td>\n",
       "      <td>15</td>\n",
       "      <td>19</td>\n",
       "    </tr>\n",
       "    <tr>\n",
       "      <td>1</td>\n",
       "      <td>37</td>\n",
       "      <td>33</td>\n",
       "      <td>43</td>\n",
       "      <td>31</td>\n",
       "      <td>28</td>\n",
       "      <td>34</td>\n",
       "      <td>20</td>\n",
       "      <td>14</td>\n",
       "      <td>18</td>\n",
       "      <td>29</td>\n",
       "      <td>34</td>\n",
       "      <td>22</td>\n",
       "      <td>18</td>\n",
       "      <td>21</td>\n",
       "      <td>17</td>\n",
       "    </tr>\n",
       "    <tr>\n",
       "      <td>2</td>\n",
       "      <td>44</td>\n",
       "      <td>47</td>\n",
       "      <td>36</td>\n",
       "      <td>55</td>\n",
       "      <td>34</td>\n",
       "      <td>43</td>\n",
       "      <td>28</td>\n",
       "      <td>40</td>\n",
       "      <td>41</td>\n",
       "      <td>49</td>\n",
       "      <td>43</td>\n",
       "      <td>43</td>\n",
       "      <td>56</td>\n",
       "      <td>66</td>\n",
       "      <td>70</td>\n",
       "    </tr>\n",
       "    <tr>\n",
       "      <td>3</td>\n",
       "      <td>27</td>\n",
       "      <td>24</td>\n",
       "      <td>12</td>\n",
       "      <td>29</td>\n",
       "      <td>24</td>\n",
       "      <td>25</td>\n",
       "      <td>18</td>\n",
       "      <td>25</td>\n",
       "      <td>26</td>\n",
       "      <td>31</td>\n",
       "      <td>29</td>\n",
       "      <td>16</td>\n",
       "      <td>13</td>\n",
       "      <td>21</td>\n",
       "      <td>12</td>\n",
       "    </tr>\n",
       "    <tr>\n",
       "      <td>4</td>\n",
       "      <td>19</td>\n",
       "      <td>14</td>\n",
       "      <td>21</td>\n",
       "      <td>15</td>\n",
       "      <td>17</td>\n",
       "      <td>18</td>\n",
       "      <td>19</td>\n",
       "      <td>21</td>\n",
       "      <td>19</td>\n",
       "      <td>16</td>\n",
       "      <td>14</td>\n",
       "      <td>11</td>\n",
       "      <td>27</td>\n",
       "      <td>19</td>\n",
       "      <td>28</td>\n",
       "    </tr>\n",
       "  </tbody>\n",
       "</table>\n",
       "</div>"
      ],
      "text/plain": [
       "   Charles Darwin: 1  Charles Darwin: 2  Charles Darwin: 3  Rene Descartes: 1  \\\n",
       "0                 34                 18                 32                 13   \n",
       "1                 37                 33                 43                 31   \n",
       "2                 44                 47                 36                 55   \n",
       "3                 27                 24                 12                 29   \n",
       "4                 19                 14                 21                 15   \n",
       "\n",
       "   Rene Descartes: 2  Rene Descartes: 3  Thomas Hobbes: 1  Thomas Hobbes: 2  \\\n",
       "0                  8                  9                15                18   \n",
       "1                 28                 34                20                14   \n",
       "2                 34                 43                28                40   \n",
       "3                 24                 25                18                25   \n",
       "4                 17                 18                19                21   \n",
       "\n",
       "   Thomas Hobbes: 3  Mary Shelley: 1  Mary Shelley: 2  Mary Shelley: 3  \\\n",
       "0                19               13               17               13   \n",
       "1                18               29               34               22   \n",
       "2                41               49               43               43   \n",
       "3                26               31               29               16   \n",
       "4                19               16               14               11   \n",
       "\n",
       "   Mark Twain: 1  Mark Twain: 2  Mark Twain: 3  \n",
       "0             16             15             19  \n",
       "1             18             21             17  \n",
       "2             56             66             70  \n",
       "3             13             21             12  \n",
       "4             27             19             28  "
      ]
     },
     "execution_count": 141,
     "metadata": {},
     "output_type": "execute_result"
    }
   ],
   "source": [
    "dfTableForm = pd.DataFrame(data=np.transpose(sampleCrosstab), columns=authorSamples)\n",
    "\n",
    "dfTableForm.head()"
   ]
  },
  {
   "cell_type": "markdown",
   "metadata": {},
   "source": [
    "<p><b>Chi-Squared Statistic and Chi-Squared Distances</b></p>"
   ]
  },
  {
   "cell_type": "markdown",
   "metadata": {},
   "source": [
    "<p>Pearson’s $\\chi^2$  test of independence can be used to say with reasonable certainty if the distribution of letters differs from one author to another. $\\chi^2$  is defined as:</p>"
   ]
  },
  {
   "cell_type": "markdown",
   "metadata": {},
   "source": [
    "<p>$\\chi^2 = \\sum_{I}\\sum_{J}\\frac{(n_{ij}-(\\frac{n_{i.}n_{.j}}{n}))^2}{\\frac{n_{i.}n_{.j}}{n}}$<p>"
   ]
  },
  {
   "cell_type": "markdown",
   "metadata": {},
   "source": [
    "<p>Where n  is the total number of frequencies, $n_{ij}$  is the letter frequency in row i  and column j , and $n_{i.}$  and $n_{.j}$  are the total frequencies in row i  and column j  respectively. The product of $n_{i.}$  and $n_{.j}$  normalised by n  is the expected frequency for $n_{ij}$  under the independence assumption. Let’s call it independenceModel. The greater is $\\chi^2$ , the greater is the certainty that the use of these letters is different by author. We can calculate this statistic in Python as following:<p>"
   ]
  },
  {
   "cell_type": "code",
   "execution_count": 142,
   "metadata": {},
   "outputs": [
    {
     "name": "stdout",
     "output_type": "stream",
     "text": [
      "Manually calculated Chi-Squared Stats : 448.49666422103445\n",
      "Auto : 448.49666422103445\n",
      "0.0\n"
     ]
    }
   ],
   "source": [
    "grandTotal = np.sum(contingencyTable)\n",
    "correspondenceMatrix = np.divide(contingencyTable,grandTotal)\n",
    "rowTotals = np.sum(correspondenceMatrix, axis=1)\n",
    "columnTotals = np.sum(correspondenceMatrix, axis=0)\n",
    " \n",
    "independenceModel = np.outer(rowTotals, columnTotals)\n",
    " \n",
    "#Calculate manually\n",
    "chiSquaredStatistic = grandTotal*np.sum(np.square(correspondenceMatrix-independenceModel)/independenceModel)\n",
    "print(\"Manually calculated Chi-Squared Stats : {}\".format(chiSquaredStatistic))\n",
    " \n",
    "# Quick check - compare to scipy Chi-Squared test\n",
    "statistic, prob, dof, ex = chi2_contingency(contingencyTable)\n",
    "print(\"Auto : {}\".format(statistic))\n",
    "print(np.round(prob, decimals=5))"
   ]
  },
  {
   "cell_type": "markdown",
   "metadata": {},
   "source": [
    "<p>In the above code correspondenceMatrix holds normalised frequencies. The $\\chi^2$  statistic is 448.497, which is very unlikely to be observed under the null hypothesis (that the letter frequencies follow the same distribution). Having established this, we can continue with the CA as we now know that it should be able to show us some meaningful associations.<p>"
   ]
  },
  {
   "cell_type": "markdown",
   "metadata": {},
   "source": [
    "<p><b>For the purposes of CA, the differences between the distributions of letters in the text samples are measured by $\\chi^2$ -distances, which are weighted Euclidean distances between normalized rows. These are calculated by dividing row entries by their respective row totals. The weights are inversely proportional to the square roots of the column totals. $\\chi^2$ -distances between row i and row k are defined as:</b></p>"
   ]
  },
  {
   "cell_type": "markdown",
   "metadata": {},
   "source": [
    "$\\chi^2_{distance_{ik}} = \\sqrt{\\sum_{J}\\frac{(p_{ij}/p_{i.} - p_{kj}/p_{k.})^2}{p_{.j}}}$\n"
   ]
  },
  {
   "cell_type": "code",
   "execution_count": 143,
   "metadata": {},
   "outputs": [
    {
     "name": "stdout",
     "output_type": "stream",
     "text": [
      "    Charles Darwin: 1  Charles Darwin: 2  Charles Darwin: 3  \\\n",
      "0                   0                 21                 24   \n",
      "1                  21                  0                 32   \n",
      "2                  24                 32                  0   \n",
      "3                  29                 20                 40   \n",
      "4                  35                 26                 34   \n",
      "5                  33                 24                 35   \n",
      "6                  36                 32                 37   \n",
      "7                  39                 33                 39   \n",
      "8                  34                 28                 35   \n",
      "9                  27                 23                 37   \n",
      "10                 31                 26                 29   \n",
      "11                 38                 31                 37   \n",
      "12                 43                 40                 46   \n",
      "13                 38                 33                 48   \n",
      "14                 42                 41                 47   \n",
      "\n",
      "    Rene Descartes: 1  Rene Descartes: 2  Rene Descartes: 3  Thomas Hobbes: 1  \\\n",
      "0                  29                 35                 33                36   \n",
      "1                  20                 26                 24                32   \n",
      "2                  40                 34                 35                37   \n",
      "3                   0                 22                 21                29   \n",
      "4                  22                  0                 16                23   \n",
      "5                  21                 16                  0                26   \n",
      "6                  29                 23                 26                 0   \n",
      "7                  33                 28                 27                25   \n",
      "8                  30                 26                 24                24   \n",
      "9                  15                 24                 19                26   \n",
      "10                 29                 24                 22                33   \n",
      "11                 32                 30                 31                34   \n",
      "12                 32                 37                 42                35   \n",
      "13                 26                 38                 41                37   \n",
      "14                 35                 41                 43                36   \n",
      "\n",
      "    Thomas Hobbes: 2  Thomas Hobbes: 3  Mary Shelley: 1  Mary Shelley: 2  \\\n",
      "0                 39                34               27               31   \n",
      "1                 33                28               23               26   \n",
      "2                 39                35               37               29   \n",
      "3                 33                30               15               29   \n",
      "4                 28                26               24               24   \n",
      "5                 27                24               19               22   \n",
      "6                 25                24               26               33   \n",
      "7                  0                 8               29               26   \n",
      "8                  8                 0               26               23   \n",
      "9                 29                26                0               23   \n",
      "10                26                23               23                0   \n",
      "11                35                33               27               26   \n",
      "12                39                40               35               43   \n",
      "13                41                41               29               42   \n",
      "14                37                39               36               45   \n",
      "\n",
      "    Mary Shelley: 3  Mark Twain: 1  Mark Twain: 2  Mark Twain: 3  \n",
      "0                38             43             38             42  \n",
      "1                31             40             33             41  \n",
      "2                37             46             48             47  \n",
      "3                32             32             26             35  \n",
      "4                30             37             38             41  \n",
      "5                31             42             41             43  \n",
      "6                34             35             37             36  \n",
      "7                35             39             41             37  \n",
      "8                33             40             41             39  \n",
      "9                27             35             29             36  \n",
      "10               26             43             42             45  \n",
      "11                0             38             36             42  \n",
      "12               38              0             18             17  \n",
      "13               36             18              0             20  \n",
      "14               42             17             20              0  \n"
     ]
    }
   ],
   "source": [
    "# pre-calculate normalised rows\n",
    "norm_correspondenceMatrix = np.divide(correspondenceMatrix,rowTotals[:, None])\n",
    " \n",
    "chiSquaredDistances = np.zeros((correspondenceMatrix.shape[0],correspondenceMatrix.shape[0]))\n",
    "\n",
    "norm_columnTotals = np.sum(norm_correspondenceMatrix, axis=0)\n",
    "for row in range(correspondenceMatrix.shape[0]):\n",
    "    chiSquaredDistances[row]=np.sqrt(np.sum(np.square(norm_correspondenceMatrix\n",
    "                                                        -norm_correspondenceMatrix[row])/columnTotals, axis=1))# Save distances to the DataFrame\n",
    "\n",
    "dfchiSquaredDistances = pd.DataFrame(data=np.round(chiSquaredDistances*100).astype(int), columns=authorSamples)\n",
    " \n",
    "print(dfchiSquaredDistances)"
   ]
  },
  {
   "cell_type": "markdown",
   "metadata": {},
   "source": [
    "# Chi-Squared Distances In Graphical Form"
   ]
  },
  {
   "cell_type": "markdown",
   "metadata": {},
   "source": [
    "## Calculating Row Scores"
   ]
  },
  {
   "cell_type": "markdown",
   "metadata": {},
   "source": [
    "<p>CA provides a means of representing a table of $\\chi^2$ -distances in a graphical form. This is where the similarity with the PCA analysis comes in. To calculate such representation we need to transform the distances to points in a Cartesian coordinate system. This is achieved by a singular value decomposition (SVD) of a matrix of standardised residuals:\n",
    "\n",
    "\\$Omega = \\frac{p_{ij}-\\mu_{ij}}{\\sqrt{\\mu_{ij}}}$</p>"
   ]
  },
  {
   "cell_type": "code",
   "execution_count": 144,
   "metadata": {},
   "outputs": [],
   "source": [
    "standardizedResiduals = np.divide((correspondenceMatrix-independenceModel),np.sqrt(independenceModel))\n",
    "\n",
    "u,s,vh = np.linalg.svd(standardizedResiduals, full_matrices=False)"
   ]
  },
  {
   "cell_type": "markdown",
   "metadata": {},
   "source": [
    "<p>We are after the row scores, which are coordinates of points in a high-dimensional space (14 dimensions in this case). These points are arranged so that the Euclidean distance between two points is equal to the $\\chi^2$ -distance between the two rows to which they correspond. The row scores are defined as:\n",
    "\n",
    "$R = \\delta_{r}\\cdot U\\cdot S $ \n",
    "\n",
    "where U and S are the left singular vectors matrix and singular values on the diagonal matrix from SVD. The \\delta_{r}  is diagonal matrix made of the reciprocals of the square roots of the row totals.</p>"
   ]
  },
  {
   "cell_type": "code",
   "execution_count": 145,
   "metadata": {},
   "outputs": [
    {
     "data": {
      "text/html": [
       "<div>\n",
       "<style scoped>\n",
       "    .dataframe tbody tr th:only-of-type {\n",
       "        vertical-align: middle;\n",
       "    }\n",
       "\n",
       "    .dataframe tbody tr th {\n",
       "        vertical-align: top;\n",
       "    }\n",
       "\n",
       "    .dataframe thead th {\n",
       "        text-align: right;\n",
       "    }\n",
       "</style>\n",
       "<table border=\"1\" class=\"dataframe\">\n",
       "  <thead>\n",
       "    <tr style=\"text-align: right;\">\n",
       "      <th></th>\n",
       "      <th>X</th>\n",
       "      <th>Y</th>\n",
       "    </tr>\n",
       "  </thead>\n",
       "  <tbody>\n",
       "    <tr>\n",
       "      <td>CD1</td>\n",
       "      <td>-0.070977</td>\n",
       "      <td>0.200620</td>\n",
       "    </tr>\n",
       "    <tr>\n",
       "      <td>CD2</td>\n",
       "      <td>-0.062109</td>\n",
       "      <td>0.094512</td>\n",
       "    </tr>\n",
       "    <tr>\n",
       "      <td>CD3</td>\n",
       "      <td>-0.148509</td>\n",
       "      <td>0.158889</td>\n",
       "    </tr>\n",
       "    <tr>\n",
       "      <td>RD1</td>\n",
       "      <td>0.030697</td>\n",
       "      <td>0.019028</td>\n",
       "    </tr>\n",
       "    <tr>\n",
       "      <td>RD2</td>\n",
       "      <td>-0.069552</td>\n",
       "      <td>-0.068382</td>\n",
       "    </tr>\n",
       "    <tr>\n",
       "      <td>RD3</td>\n",
       "      <td>-0.115119</td>\n",
       "      <td>-0.063805</td>\n",
       "    </tr>\n",
       "    <tr>\n",
       "      <td>TB1</td>\n",
       "      <td>-0.006890</td>\n",
       "      <td>-0.103594</td>\n",
       "    </tr>\n",
       "    <tr>\n",
       "      <td>TB2</td>\n",
       "      <td>-0.053382</td>\n",
       "      <td>-0.170423</td>\n",
       "    </tr>\n",
       "    <tr>\n",
       "      <td>TB3</td>\n",
       "      <td>-0.083822</td>\n",
       "      <td>-0.121758</td>\n",
       "    </tr>\n",
       "    <tr>\n",
       "      <td>MS1</td>\n",
       "      <td>-0.016408</td>\n",
       "      <td>0.001383</td>\n",
       "    </tr>\n",
       "    <tr>\n",
       "      <td>MS2</td>\n",
       "      <td>-0.143838</td>\n",
       "      <td>-0.010875</td>\n",
       "    </tr>\n",
       "    <tr>\n",
       "      <td>MS3</td>\n",
       "      <td>-0.029819</td>\n",
       "      <td>0.005454</td>\n",
       "    </tr>\n",
       "    <tr>\n",
       "      <td>MT1</td>\n",
       "      <td>0.256214</td>\n",
       "      <td>-0.009194</td>\n",
       "    </tr>\n",
       "    <tr>\n",
       "      <td>MT2</td>\n",
       "      <td>0.243356</td>\n",
       "      <td>0.059730</td>\n",
       "    </tr>\n",
       "    <tr>\n",
       "      <td>MT3</td>\n",
       "      <td>0.265072</td>\n",
       "      <td>-0.006179</td>\n",
       "    </tr>\n",
       "  </tbody>\n",
       "</table>\n",
       "</div>"
      ],
      "text/plain": [
       "            X         Y\n",
       "CD1 -0.070977  0.200620\n",
       "CD2 -0.062109  0.094512\n",
       "CD3 -0.148509  0.158889\n",
       "RD1  0.030697  0.019028\n",
       "RD2 -0.069552 -0.068382\n",
       "RD3 -0.115119 -0.063805\n",
       "TB1 -0.006890 -0.103594\n",
       "TB2 -0.053382 -0.170423\n",
       "TB3 -0.083822 -0.121758\n",
       "MS1 -0.016408  0.001383\n",
       "MS2 -0.143838 -0.010875\n",
       "MS3 -0.029819  0.005454\n",
       "MT1  0.256214 -0.009194\n",
       "MT2  0.243356  0.059730\n",
       "MT3  0.265072 -0.006179"
      ]
     },
     "execution_count": 145,
     "metadata": {},
     "output_type": "execute_result"
    }
   ],
   "source": [
    "deltaR = np.diag(np.divide(1.0,np.sqrt(rowTotals)))\n",
    "rowScores=np.dot(np.dot(deltaR,u),np.diag(s))\n",
    "dfFirstTwoComponents = pd.DataFrame(data=[l[0:2] for l in rowScores], columns=['X', 'Y'], index=initials)\n",
    "dfFirstTwoComponents"
   ]
  },
  {
   "cell_type": "markdown",
   "metadata": {},
   "source": [
    "## Plotting the points"
   ]
  },
  {
   "cell_type": "code",
   "execution_count": 146,
   "metadata": {},
   "outputs": [
    {
     "data": {
      "image/png": "[encoded data removed]",
      "text/plain": [
       "<Figure size 432x288 with 1 Axes>"
      ]
     },
     "metadata": {
      "needs_background": "light"
     },
     "output_type": "display_data"
    }
   ],
   "source": [
    "ax = sns.scatterplot(data=dfFirstTwoComponents,x='X', y='Y', hue=initials)\n",
    "ax.axhline(y=0, color='k')\n",
    "ax.axvline(x=0, color='k')\n",
    "ax.get_legend().set_visible(False)\n",
    "\n",
    "for label in initials:\n",
    "    plt.annotate(label, \n",
    "                 (dfFirstTwoComponents.loc[label,:]['X'],\n",
    "                  dfFirstTwoComponents.loc[label,:]['Y']),\n",
    "                 horizontalalignment='center', verticalalignment='center',size=11)"
   ]
  },
  {
   "cell_type": "markdown",
   "metadata": {},
   "source": [
    "# Multiple Correspondence Analysis"
   ]
  },
  {
   "cell_type": "markdown",
   "metadata": {},
   "source": [
    "<p>Using the MCA python package to perform Multiple Correspondence Analysis on Wines dataset</p>"
   ]
  },
  {
   "cell_type": "code",
   "execution_count": 147,
   "metadata": {},
   "outputs": [],
   "source": [
    "from mca import *\n",
    "\n",
    "data = pd.read_table('wines.csv',\n",
    "                     sep=',', skiprows=1, index_col=0, header=0)\n",
    "X = data.drop('oak_type', axis=1)\n",
    "j_sup = data.oak_type\n",
    "i_sup = np.array([0, 1, 0, 1, 0, .5, .5, 1, 0, 1, 0, 0, 1, 0, .5, .5, 1, 0, .5, .5, 0, 1])\n",
    "ncols = 10"
   ]
  },
  {
   "cell_type": "markdown",
   "metadata": {},
   "source": [
    "<p>MCA calculations are implemented via MCA object. The default condition applies Benzécri correction for eigen values, therefore, benzecri flag has to be set to false. Below are the list of attributes for the MCA function, - .L Eigen values - .F Factor scores for columns. (components are linear combination of columns) - .G Factor scores for rows. (components are linear combination of rows) - .expl_var Explained variance. - .fs_r Projections onto the factor space, can also be computed by applying fs_r_sup on each of the row elements. - .cos_r Cosine distance between $i^{th}$ vector and $j^{th}$ factor (or row eigen vector) - .cont_r Contribution of individual categorical variable to the factor.<p>"
   ]
  },
  {
   "cell_type": "code",
   "execution_count": 148,
   "metadata": {},
   "outputs": [
    {
     "data": {
      "text/html": [
       "<div>\n",
       "<style scoped>\n",
       "    .dataframe tbody tr th:only-of-type {\n",
       "        vertical-align: middle;\n",
       "    }\n",
       "\n",
       "    .dataframe tbody tr th {\n",
       "        vertical-align: top;\n",
       "    }\n",
       "\n",
       "    .dataframe thead th {\n",
       "        text-align: right;\n",
       "    }\n",
       "</style>\n",
       "<table border=\"1\" class=\"dataframe\">\n",
       "  <thead>\n",
       "    <tr style=\"text-align: right;\">\n",
       "      <th></th>\n",
       "      <th>Iλ</th>\n",
       "      <th>τI</th>\n",
       "      <th>Zλ</th>\n",
       "      <th>τZ</th>\n",
       "      <th>cλ</th>\n",
       "      <th>τc</th>\n",
       "    </tr>\n",
       "    <tr>\n",
       "      <th>Factor</th>\n",
       "      <th></th>\n",
       "      <th></th>\n",
       "      <th></th>\n",
       "      <th></th>\n",
       "      <th></th>\n",
       "      <th></th>\n",
       "    </tr>\n",
       "  </thead>\n",
       "  <tbody>\n",
       "    <tr>\n",
       "      <td>1</td>\n",
       "      <td>0.853210</td>\n",
       "      <td>0.711009</td>\n",
       "      <td>0.700402</td>\n",
       "      <td>0.982290</td>\n",
       "      <td>0.700402</td>\n",
       "      <td>0.951889</td>\n",
       "    </tr>\n",
       "    <tr>\n",
       "      <td>2</td>\n",
       "      <td>0.200000</td>\n",
       "      <td>0.166667</td>\n",
       "      <td>0.012346</td>\n",
       "      <td>0.017314</td>\n",
       "      <td>0.012346</td>\n",
       "      <td>0.016779</td>\n",
       "    </tr>\n",
       "    <tr>\n",
       "      <td>3</td>\n",
       "      <td>0.115114</td>\n",
       "      <td>0.095928</td>\n",
       "      <td>0.000282</td>\n",
       "      <td>0.000395</td>\n",
       "      <td>0.000282</td>\n",
       "      <td>0.000383</td>\n",
       "    </tr>\n",
       "    <tr>\n",
       "      <td>4</td>\n",
       "      <td>0.031676</td>\n",
       "      <td>0.026397</td>\n",
       "      <td>0.000000</td>\n",
       "      <td>0.000000</td>\n",
       "      <td>0.000000</td>\n",
       "      <td>0.000000</td>\n",
       "    </tr>\n",
       "    <tr>\n",
       "      <td>Σ</td>\n",
       "      <td>1.200000</td>\n",
       "      <td>1.000000</td>\n",
       "      <td>0.713030</td>\n",
       "      <td>1.000000</td>\n",
       "      <td>0.713030</td>\n",
       "      <td>0.969050</td>\n",
       "    </tr>\n",
       "  </tbody>\n",
       "</table>\n",
       "</div>"
      ],
      "text/plain": [
       "              Iλ        τI        Zλ        τZ        cλ        τc\n",
       "Factor                                                            \n",
       "1       0.853210  0.711009  0.700402  0.982290  0.700402  0.951889\n",
       "2       0.200000  0.166667  0.012346  0.017314  0.012346  0.016779\n",
       "3       0.115114  0.095928  0.000282  0.000395  0.000282  0.000383\n",
       "4       0.031676  0.026397  0.000000  0.000000  0.000000  0.000000\n",
       "Σ       1.200000  1.000000  0.713030  1.000000  0.713030  0.969050"
      ]
     },
     "execution_count": 148,
     "metadata": {},
     "output_type": "execute_result"
    }
   ],
   "source": [
    "mca_ben = MCA(X, ncols=ncols)\n",
    "mca_ind = MCA(X, ncols=ncols, benzecri=False)\n",
    "data = {'Iλ': pd.Series(mca_ind.L),\n",
    "        'τI': mca_ind.expl_var(greenacre=False, N=4),\n",
    "        'Zλ': pd.Series(mca_ben.L),\n",
    "        'τZ': mca_ben.expl_var(greenacre=False, N=4),\n",
    "        'cλ': pd.Series(mca_ben.L),\n",
    "        'τc': mca_ind.expl_var(greenacre=True, N=4)}\n",
    "\n",
    "# 'Indicator Matrix', 'Benzecri Correction', 'Greenacre Correction'\n",
    "columns = ['Iλ', 'τI', 'Zλ', 'τZ', 'cλ', 'τc']\n",
    "table2 = pd.DataFrame(data=data, columns=columns).fillna(0)\n",
    "table2.index += 1\n",
    "table2.loc['Σ'] = table2.sum()\n",
    "table2.index.name = 'Factor'\n",
    "\n",
    "table2"
   ]
  },
  {
   "cell_type": "markdown",
   "metadata": {},
   "source": [
    "<p>Next we will use functions in MCA to compute the projections onto important factors, cosine distance and contributions of individual terms to the factors</p>"
   ]
  },
  {
   "cell_type": "code",
   "execution_count": 149,
   "metadata": {},
   "outputs": [
    {
     "data": {
      "text/html": [
       "<div>\n",
       "<style scoped>\n",
       "    .dataframe tbody tr th:only-of-type {\n",
       "        vertical-align: middle;\n",
       "    }\n",
       "\n",
       "    .dataframe tbody tr th {\n",
       "        vertical-align: top;\n",
       "    }\n",
       "\n",
       "    .dataframe thead th {\n",
       "        text-align: right;\n",
       "    }\n",
       "</style>\n",
       "<table border=\"1\" class=\"dataframe\">\n",
       "  <thead>\n",
       "    <tr style=\"text-align: right;\">\n",
       "      <th></th>\n",
       "      <th>Wine</th>\n",
       "      <th>W1</th>\n",
       "      <th>W2</th>\n",
       "      <th>W3</th>\n",
       "      <th>W4</th>\n",
       "      <th>W5</th>\n",
       "      <th>W6</th>\n",
       "      <th>W?</th>\n",
       "    </tr>\n",
       "  </thead>\n",
       "  <tbody>\n",
       "    <tr>\n",
       "      <td rowspan=\"2\" valign=\"top\">Factor score</td>\n",
       "      <td>1</td>\n",
       "      <td>0.86</td>\n",
       "      <td>-0.71</td>\n",
       "      <td>-0.92</td>\n",
       "      <td>-0.86</td>\n",
       "      <td>0.92</td>\n",
       "      <td>0.71</td>\n",
       "      <td>0.03</td>\n",
       "    </tr>\n",
       "    <tr>\n",
       "      <td>2</td>\n",
       "      <td>0.08</td>\n",
       "      <td>-0.16</td>\n",
       "      <td>0.08</td>\n",
       "      <td>0.08</td>\n",
       "      <td>0.08</td>\n",
       "      <td>-0.16</td>\n",
       "      <td>-0.63</td>\n",
       "    </tr>\n",
       "    <tr>\n",
       "      <td rowspan=\"2\" valign=\"top\">Squared cosines</td>\n",
       "      <td>1</td>\n",
       "      <td>0.99</td>\n",
       "      <td>0.95</td>\n",
       "      <td>0.99</td>\n",
       "      <td>0.99</td>\n",
       "      <td>0.99</td>\n",
       "      <td>0.95</td>\n",
       "      <td>NaN</td>\n",
       "    </tr>\n",
       "    <tr>\n",
       "      <td>2</td>\n",
       "      <td>0.01</td>\n",
       "      <td>0.05</td>\n",
       "      <td>0.01</td>\n",
       "      <td>0.01</td>\n",
       "      <td>0.01</td>\n",
       "      <td>0.05</td>\n",
       "      <td>NaN</td>\n",
       "    </tr>\n",
       "    <tr>\n",
       "      <td rowspan=\"2\" valign=\"top\">Contributions x 1000</td>\n",
       "      <td>1</td>\n",
       "      <td>176.68</td>\n",
       "      <td>120.99</td>\n",
       "      <td>202.33</td>\n",
       "      <td>176.68</td>\n",
       "      <td>202.33</td>\n",
       "      <td>120.99</td>\n",
       "      <td>NaN</td>\n",
       "    </tr>\n",
       "    <tr>\n",
       "      <td>2</td>\n",
       "      <td>83.33</td>\n",
       "      <td>333.33</td>\n",
       "      <td>83.33</td>\n",
       "      <td>83.33</td>\n",
       "      <td>83.33</td>\n",
       "      <td>333.33</td>\n",
       "      <td>NaN</td>\n",
       "    </tr>\n",
       "  </tbody>\n",
       "</table>\n",
       "</div>"
      ],
      "text/plain": [
       "Wine                        W1      W2      W3      W4      W5      W6    W?\n",
       "Factor score         1    0.86   -0.71   -0.92   -0.86    0.92    0.71  0.03\n",
       "                     2    0.08   -0.16    0.08    0.08    0.08   -0.16 -0.63\n",
       "Squared cosines      1    0.99    0.95    0.99    0.99    0.99    0.95   NaN\n",
       "                     2    0.01    0.05    0.01    0.01    0.01    0.05   NaN\n",
       "Contributions x 1000 1  176.68  120.99  202.33  176.68  202.33  120.99   NaN\n",
       "                     2   83.33  333.33   83.33   83.33   83.33  333.33   NaN"
      ]
     },
     "execution_count": 149,
     "metadata": {},
     "output_type": "execute_result"
    }
   ],
   "source": [
    "fs, cos, cont = 'Factor score','Squared cosines', 'Contributions x 1000'\n",
    "table3 = pd.DataFrame(columns=X.index, index=pd.MultiIndex\n",
    "                      .from_product([[fs, cos, cont], range(1, 3)]))\n",
    "\n",
    "table3.loc[fs,    :] = mca_ben.fs_r(N=2).T\n",
    "table3.loc[cos,   :] = mca_ben.cos_r(N=2).T\n",
    "table3.loc[cont,  :] = mca_ben.cont_r(N=2).T * 1000\n",
    "table3.loc[fs, 'W?'] = mca_ben.fs_r_sup(pd.DataFrame([i_sup]), N=2)[0]\n",
    "\n",
    "np.round(table3.astype(float), 2)"
   ]
  },
  {
   "cell_type": "markdown",
   "metadata": {},
   "source": [
    "## Plotting the points "
   ]
  },
  {
   "cell_type": "code",
   "execution_count": 150,
   "metadata": {},
   "outputs": [
    {
     "data": {
      "image/png": "[encoded data removed]",
      "text/plain": [
       "<Figure size 432x288 with 1 Axes>"
      ]
     },
     "metadata": {
      "needs_background": "light"
     },
     "output_type": "display_data"
    }
   ],
   "source": [
    "%matplotlib inline\n",
    "import matplotlib.pyplot as plt\n",
    "\n",
    "points = table3.loc[fs].values\n",
    "labels = table3.columns.values\n",
    "\n",
    "plt.figure()\n",
    "plt.margins(0.1)\n",
    "plt.axhline(0, color='gray')\n",
    "plt.axvline(0, color='gray')\n",
    "plt.xlabel('Factor 1')\n",
    "plt.ylabel('Factor 2')\n",
    "plt.scatter(*points, s=120, marker='o', c='r', alpha=.5, linewidths=0)\n",
    "for label, x, y in zip(labels, *points):\n",
    "    plt.annotate(label, xy=(x, y), xytext=(x + .03, y + .03))\n",
    "plt.show()"
   ]
  }
 ],
 "metadata": {
  "kernelspec": {
   "display_name": "Python 3",
   "language": "python",
   "name": "python3"
  },
  "language_info": {
   "codemirror_mode": {
    "name": "ipython",
    "version": 3
   },
   "file_extension": ".py",
   "mimetype": "text/x-python",
   "name": "python",
   "nbconvert_exporter": "python",
   "pygments_lexer": "ipython3",
   "version": "3.7.4"
  }
 },
 "nbformat": 4,
 "nbformat_minor": 2
}
